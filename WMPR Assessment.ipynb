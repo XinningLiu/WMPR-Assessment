{
 "cells": [
  {
   "cell_type": "code",
   "execution_count": 1,
   "id": "524d2f62",
   "metadata": {},
   "outputs": [
    {
     "name": "stderr",
     "output_type": "stream",
     "text": [
      "Warning message:\n",
      "\"package 'readxl' was built under R version 4.1.2\"\n"
     ]
    }
   ],
   "source": [
    "library(readxl)\n",
    "Funds <- read_excel(\"Funds.xlsx\")\n",
    "Bmark <- read_excel(\"Bmark.xlsx\")"
   ]
  },
  {
   "cell_type": "code",
   "execution_count": 2,
   "id": "728280aa",
   "metadata": {},
   "outputs": [],
   "source": [
    "download.file(url = \"http://mba.tuck.dartmouth.edu/pages/faculty/ken.french/ftp/Developed_3_Factors_CSV.zip\", \n",
    "              destfile = 'Developed_3_Factors_CSV.zip')\n",
    "unzip(\"Developed_3_Factors_CSV.zip\")"
   ]
  },
  {
   "cell_type": "code",
   "execution_count": 3,
   "id": "4e8909ff",
   "metadata": {},
   "outputs": [],
   "source": [
    "Developed_3_Factors <- read.csv('Developed_3_Factors.csv',skip = 6,  nrows = 394)\n",
    "Developed_3_Factors[-1]<-Developed_3_Factors[-1]*0.01"
   ]
  },
  {
   "cell_type": "markdown",
   "id": "1dd93ef5",
   "metadata": {},
   "source": [
    "# Part I Vs. Benchmark Analysis\n",
    "## I.1. Calculate the annualized ex-post tracking error versus the benchmark\n",
    "## I.2. Calculate the annualized information ratio relative to the benchmark\n",
    "## I.3. Calculate the beta relative to the benchmark.\n",
    "\n",
    "Use base R functions wrapped in a custom function.  \n",
    "\n",
    "Please calculate the three metrics for each fund’s own individual common return history with the benchmark.  \n",
    "\n",
    "Create a data frame with the Fund Name, Tracking Error, Info Ratio and Beta as columns. \n",
    "\n",
    "Any comments on the metrics for each fund"
   ]
  },
  {
   "cell_type": "code",
   "execution_count": 4,
   "id": "92b2313a",
   "metadata": {},
   "outputs": [],
   "source": [
    "AnnualizedTrackingError = function(fundname) {\n",
    "    DT <- merge(na.omit(Funds[,c('Date',fundname)]),Bmark,all.x = TRUE)\n",
    "    colnames(DT) <- c('Date', 'Fund', 'Benchmark')\n",
    "    DT$diff<- DT$Fund - DT$Benchmark\n",
    "    sd(DT$diff)*sqrt(12)\n",
    "}"
   ]
  },
  {
   "cell_type": "code",
   "execution_count": 5,
   "id": "528676b5",
   "metadata": {},
   "outputs": [],
   "source": [
    "AnnualizedInformationRatio = function(fundname) {\n",
    "    DT <- merge(na.omit(Funds[,c('Date',fundname)]),Bmark,all.x = TRUE)\n",
    "    colnames(DT) <- c('Date', 'Fund', 'Benchmark')\n",
    "    DT$diff<- DT$Fund - DT$Benchmark\n",
    "    SD = sd(DT$diff)*sqrt(12)\n",
    "    Ex = mean(DT$diff)*12\n",
    "    Ex / SD\n",
    "}"
   ]
  },
  {
   "cell_type": "code",
   "execution_count": 6,
   "id": "857ac619",
   "metadata": {},
   "outputs": [],
   "source": [
    "Beta = function(fundname){\n",
    "    DT <- merge(na.omit(Funds[,c('Date',fundname)]),Bmark,all.x = TRUE)\n",
    "    colnames(DT) <- c('Date', 'Fund', 'Benchmark')\n",
    "    cor(DT$Fund, DT$Benchmark)*sd(DT$Fund)/sd(DT$Benchmark)\n",
    "}"
   ]
  },
  {
   "cell_type": "code",
   "execution_count": 7,
   "id": "0506ed02",
   "metadata": {},
   "outputs": [],
   "source": [
    "Ans1 <- data.frame(matrix(nrow = 3, ncol = 4))\n",
    "colnames(Ans1) <- c('Fund Name', 'Tracking Error', 'Info Ratio' , 'Beta')\n",
    "Ans1$'Fund Name'<-colnames(Funds)[2:4]"
   ]
  },
  {
   "cell_type": "code",
   "execution_count": 8,
   "id": "7ae8e70d",
   "metadata": {},
   "outputs": [
    {
     "data": {
      "text/html": [
       "<table class=\"dataframe\">\n",
       "<caption>A data.frame: 3 × 4</caption>\n",
       "<thead>\n",
       "\t<tr><th scope=col>Fund Name</th><th scope=col>Tracking Error</th><th scope=col>Info Ratio</th><th scope=col>Beta</th></tr>\n",
       "\t<tr><th scope=col>&lt;chr&gt;</th><th scope=col>&lt;dbl&gt;</th><th scope=col>&lt;dbl&gt;</th><th scope=col>&lt;dbl&gt;</th></tr>\n",
       "</thead>\n",
       "<tbody>\n",
       "\t<tr><td>Fund1</td><td>0.05250632</td><td>0.7690834</td><td>0.8963913</td></tr>\n",
       "\t<tr><td>Fund2</td><td>0.04802328</td><td>0.9642357</td><td>1.0111445</td></tr>\n",
       "\t<tr><td>Fund3</td><td>0.06673098</td><td>0.6425230</td><td>1.1127256</td></tr>\n",
       "</tbody>\n",
       "</table>\n"
      ],
      "text/latex": [
       "A data.frame: 3 × 4\n",
       "\\begin{tabular}{llll}\n",
       " Fund Name & Tracking Error & Info Ratio & Beta\\\\\n",
       " <chr> & <dbl> & <dbl> & <dbl>\\\\\n",
       "\\hline\n",
       "\t Fund1 & 0.05250632 & 0.7690834 & 0.8963913\\\\\n",
       "\t Fund2 & 0.04802328 & 0.9642357 & 1.0111445\\\\\n",
       "\t Fund3 & 0.06673098 & 0.6425230 & 1.1127256\\\\\n",
       "\\end{tabular}\n"
      ],
      "text/markdown": [
       "\n",
       "A data.frame: 3 × 4\n",
       "\n",
       "| Fund Name &lt;chr&gt; | Tracking Error &lt;dbl&gt; | Info Ratio &lt;dbl&gt; | Beta &lt;dbl&gt; |\n",
       "|---|---|---|---|\n",
       "| Fund1 | 0.05250632 | 0.7690834 | 0.8963913 |\n",
       "| Fund2 | 0.04802328 | 0.9642357 | 1.0111445 |\n",
       "| Fund3 | 0.06673098 | 0.6425230 | 1.1127256 |\n",
       "\n"
      ],
      "text/plain": [
       "  Fund Name Tracking Error Info Ratio Beta     \n",
       "1 Fund1     0.05250632     0.7690834  0.8963913\n",
       "2 Fund2     0.04802328     0.9642357  1.0111445\n",
       "3 Fund3     0.06673098     0.6425230  1.1127256"
      ]
     },
     "metadata": {},
     "output_type": "display_data"
    }
   ],
   "source": [
    "for (i in (1:3)){\n",
    "    Ans1$'Tracking Error'[i]<-AnnualizedTrackingError(Ans1$'Fund Name'[i])\n",
    "    Ans1$'Info Ratio'[i]<-AnnualizedInformationRatio(Ans1$'Fund Name'[i])\n",
    "    Ans1$'Beta'[i]<-Beta(Ans1$'Fund Name'[i])\n",
    "}\n",
    "Ans1"
   ]
  },
  {
   "cell_type": "markdown",
   "id": "2410844e",
   "metadata": {},
   "source": [
    "$\\text{Tracking Error} = \\sigma(r_p-r_b)$\n",
    "\n",
    "$\\text{Info Ratio} = \\frac{\\mu(r_p-r_b)}{\\sigma(r_p-r_b)}$\n",
    "\n",
    "$\\text{Beta} = \\rho_{p,b} \\frac{\\sigma(r_p)}{\\sigma(r_b)}$"
   ]
  },
  {
   "cell_type": "markdown",
   "id": "6533a1bd",
   "metadata": {},
   "source": [
    "The three metrics measure different perspectives of the fund. Tracking error measures how large the fund deviated from the benchmark, i.e. the active risk, the infomationra ratio measures the excess return per active risk, and the beta measures how the fund moves relative to a benchmark.\n",
    "\n",
    "From the result, Fund2 has the smallest tracking error or active risk, the highest information ratio, and a close 1 beta. We can conclude Fund2 follows the benchmark closely, and gains most extra return per extra risk when deviate the bechmark. \n",
    "\n",
    "Fund3 has the largest tracking error, smallest information ratio, and a >1 beta. The fund gains more when the benchmark is strong and loss more when the benchmark is weak. From the benchmark perspective, it does not perform well. \n",
    "\n",
    "Fund1 has a <1 beta, which shows it is not very sensitive to the benchmark."
   ]
  },
  {
   "cell_type": "markdown",
   "id": "f1aa9748",
   "metadata": {},
   "source": [
    "# Part II Vs. Factor Model\n",
    "\n",
    "We will be using the Fama-French Developed 3-Factor model as the factor model to compare each of these returns against.  Run a basic linear regression for each fund versus this 3-factor model and be sure to account for the risk-free rate (included with the French data) on the left-hand side of the regression.  Create a data frame with the following columns: Fund Name, Alpha (annualized), Alpha t-Stat, Developed Market Beta, Developed Market t-Stat, Developed Size Beta, Developed Size t-Stat, Developed Value Beta, Developed Value t-Stat, Adj. R2. Any comments on any of the regression results?"
   ]
  },
  {
   "cell_type": "code",
   "execution_count": 9,
   "id": "c0a65401",
   "metadata": {},
   "outputs": [],
   "source": [
    "Developed_3_Factors$YYMM <- format(as.POSIXct(paste0(Developed_3_Factors$X, \"01\"), format = \"%Y%m%d\", tz = \"UTC\"),'%Y%m')\n",
    "Funds$YYMM<-format(Funds$Date,'%Y%m')"
   ]
  },
  {
   "cell_type": "code",
   "execution_count": 10,
   "id": "b22f69c4",
   "metadata": {},
   "outputs": [],
   "source": [
    "LRSummary = function(fundname){\n",
    "    DT <- merge(na.omit(Funds[,c('YYMM',fundname)]),\n",
    "                Developed_3_Factors[,colnames(Developed_3_Factors)[-1]],all.x = TRUE)\n",
    "    colnames(DT)[2]<-'fund'\n",
    "    Y <- DT$fund - DT$RF\n",
    "    Market<- DT$Mkt.RF\n",
    "    Size <-DT$SMB\n",
    "    Value<-DT$HML\n",
    "    LM <- lm(Y~Market+Size+Value)\n",
    "    Summary <- summary(LM)\n",
    "    Coefficients <- Summary$coefficients\n",
    "    c(Coefficients['(Intercept)','Estimate']*12, Coefficients['(Intercept)','t value'],\n",
    "      Coefficients['Market','Estimate'], Coefficients['Market','t value'],\n",
    "      Coefficients['Size','Estimate'], Coefficients['Size','t value'],\n",
    "      Coefficients['Value','Estimate'], Coefficients['Value','t value'],\n",
    "      Summary$adj.r.squared\n",
    "     )\n",
    "}"
   ]
  },
  {
   "cell_type": "code",
   "execution_count": 11,
   "id": "0e007b27",
   "metadata": {},
   "outputs": [],
   "source": [
    "Ans2 <- data.frame(matrix(nrow = 3, ncol = 10))\n",
    "colnames(Ans2) <- c('Fund Name', 'Alpha (annualized)', 'Alpha t-Stat' , \n",
    "                   'Developed Market Beta','Developed Market t-Stat', \n",
    "                   'Developed Size Beta','Developed Size t-Stat',\n",
    "                   'Developed Value Beta','Developed Value t-Stat',\n",
    "                   'Adj. R2'\n",
    "                  )\n",
    "Ans2$'Fund Name'<-colnames(Funds)[2:4]"
   ]
  },
  {
   "cell_type": "code",
   "execution_count": 12,
   "id": "b4303a37",
   "metadata": {},
   "outputs": [
    {
     "data": {
      "text/html": [
       "<table class=\"dataframe\">\n",
       "<caption>A data.frame: 3 × 10</caption>\n",
       "<thead>\n",
       "\t<tr><th scope=col>Fund Name</th><th scope=col>Alpha (annualized)</th><th scope=col>Alpha t-Stat</th><th scope=col>Developed Market Beta</th><th scope=col>Developed Market t-Stat</th><th scope=col>Developed Size Beta</th><th scope=col>Developed Size t-Stat</th><th scope=col>Developed Value Beta</th><th scope=col>Developed Value t-Stat</th><th scope=col>Adj. R2</th></tr>\n",
       "\t<tr><th scope=col>&lt;chr&gt;</th><th scope=col>&lt;dbl&gt;</th><th scope=col>&lt;dbl&gt;</th><th scope=col>&lt;dbl&gt;</th><th scope=col>&lt;dbl&gt;</th><th scope=col>&lt;dbl&gt;</th><th scope=col>&lt;dbl&gt;</th><th scope=col>&lt;dbl&gt;</th><th scope=col>&lt;dbl&gt;</th><th scope=col>&lt;dbl&gt;</th></tr>\n",
       "</thead>\n",
       "<tbody>\n",
       "\t<tr><td>Fund1</td><td>0.01481489</td><td>1.461491</td><td>0.5705201</td><td>30.42173</td><td>-0.12103405</td><td>-3.044214</td><td> 0.26705126</td><td> 8.011594</td><td>0.7987610</td></tr>\n",
       "\t<tr><td>Fund2</td><td>0.02151705</td><td>2.300831</td><td>0.6400152</td><td>37.08760</td><td> 0.05939853</td><td> 1.562890</td><td> 0.15254096</td><td> 5.029381</td><td>0.8573744</td></tr>\n",
       "\t<tr><td>Fund3</td><td>0.02243838</td><td>1.540541</td><td>0.6816240</td><td>26.09011</td><td> 0.09064105</td><td> 1.646070</td><td>-0.08324953</td><td>-1.774606</td><td>0.7756220</td></tr>\n",
       "</tbody>\n",
       "</table>\n"
      ],
      "text/latex": [
       "A data.frame: 3 × 10\n",
       "\\begin{tabular}{llllllllll}\n",
       " Fund Name & Alpha (annualized) & Alpha t-Stat & Developed Market Beta & Developed Market t-Stat & Developed Size Beta & Developed Size t-Stat & Developed Value Beta & Developed Value t-Stat & Adj. R2\\\\\n",
       " <chr> & <dbl> & <dbl> & <dbl> & <dbl> & <dbl> & <dbl> & <dbl> & <dbl> & <dbl>\\\\\n",
       "\\hline\n",
       "\t Fund1 & 0.01481489 & 1.461491 & 0.5705201 & 30.42173 & -0.12103405 & -3.044214 &  0.26705126 &  8.011594 & 0.7987610\\\\\n",
       "\t Fund2 & 0.02151705 & 2.300831 & 0.6400152 & 37.08760 &  0.05939853 &  1.562890 &  0.15254096 &  5.029381 & 0.8573744\\\\\n",
       "\t Fund3 & 0.02243838 & 1.540541 & 0.6816240 & 26.09011 &  0.09064105 &  1.646070 & -0.08324953 & -1.774606 & 0.7756220\\\\\n",
       "\\end{tabular}\n"
      ],
      "text/markdown": [
       "\n",
       "A data.frame: 3 × 10\n",
       "\n",
       "| Fund Name &lt;chr&gt; | Alpha (annualized) &lt;dbl&gt; | Alpha t-Stat &lt;dbl&gt; | Developed Market Beta &lt;dbl&gt; | Developed Market t-Stat &lt;dbl&gt; | Developed Size Beta &lt;dbl&gt; | Developed Size t-Stat &lt;dbl&gt; | Developed Value Beta &lt;dbl&gt; | Developed Value t-Stat &lt;dbl&gt; | Adj. R2 &lt;dbl&gt; |\n",
       "|---|---|---|---|---|---|---|---|---|---|\n",
       "| Fund1 | 0.01481489 | 1.461491 | 0.5705201 | 30.42173 | -0.12103405 | -3.044214 |  0.26705126 |  8.011594 | 0.7987610 |\n",
       "| Fund2 | 0.02151705 | 2.300831 | 0.6400152 | 37.08760 |  0.05939853 |  1.562890 |  0.15254096 |  5.029381 | 0.8573744 |\n",
       "| Fund3 | 0.02243838 | 1.540541 | 0.6816240 | 26.09011 |  0.09064105 |  1.646070 | -0.08324953 | -1.774606 | 0.7756220 |\n",
       "\n"
      ],
      "text/plain": [
       "  Fund Name Alpha (annualized) Alpha t-Stat Developed Market Beta\n",
       "1 Fund1     0.01481489         1.461491     0.5705201            \n",
       "2 Fund2     0.02151705         2.300831     0.6400152            \n",
       "3 Fund3     0.02243838         1.540541     0.6816240            \n",
       "  Developed Market t-Stat Developed Size Beta Developed Size t-Stat\n",
       "1 30.42173                -0.12103405         -3.044214            \n",
       "2 37.08760                 0.05939853          1.562890            \n",
       "3 26.09011                 0.09064105          1.646070            \n",
       "  Developed Value Beta Developed Value t-Stat Adj. R2  \n",
       "1  0.26705126           8.011594              0.7987610\n",
       "2  0.15254096           5.029381              0.8573744\n",
       "3 -0.08324953          -1.774606              0.7756220"
      ]
     },
     "metadata": {},
     "output_type": "display_data"
    }
   ],
   "source": [
    "for (i in (1:3)){\n",
    "    Ans2[i,2:ncol(Ans2)] <- LRSummary(Ans2$'Fund Name'[i])\n",
    "}\n",
    "Ans2"
   ]
  },
  {
   "cell_type": "markdown",
   "id": "d16ab60b",
   "metadata": {},
   "source": [
    "From the table above, we can conclude that:\n",
    "\n",
    "Fund1 is significant on all three factors, but its alpha is not significant. The three factor model can explain 79.9% of the funds variance. It has positive sensitivity to market return and value return, but negative sensitivity to size return.\n",
    "\n",
    "Fund2 is significant on alpha,  market return, and value return, but beta on size return is not significant. The three factor model can explain 85.7% of the funds variance. It can generate extra 0.18% annual return compare to the market. It has positive sensitivity to market return and value return.\n",
    "\n",
    "Fund3 is only significant on market. The three factor model can explain 77.6% of the funds variance. "
   ]
  },
  {
   "cell_type": "code",
   "execution_count": null,
   "id": "b00d3ba4",
   "metadata": {},
   "outputs": [],
   "source": []
  }
 ],
 "metadata": {
  "kernelspec": {
   "display_name": "R",
   "language": "R",
   "name": "ir"
  },
  "language_info": {
   "codemirror_mode": "r",
   "file_extension": ".r",
   "mimetype": "text/x-r-source",
   "name": "R",
   "pygments_lexer": "r",
   "version": "4.1.1"
  }
 },
 "nbformat": 4,
 "nbformat_minor": 5
}
